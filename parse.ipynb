{
 "metadata": {
  "language_info": {
   "codemirror_mode": {
    "name": "ipython",
    "version": 3
   },
   "file_extension": ".py",
   "mimetype": "text/x-python",
   "name": "python",
   "nbconvert_exporter": "python",
   "pygments_lexer": "ipython3",
   "version": "3.9.2"
  },
  "orig_nbformat": 2,
  "kernelspec": {
   "name": "python3",
   "display_name": "Python 3",
   "language": "python"
  }
 },
 "nbformat": 4,
 "nbformat_minor": 2,
 "cells": [
  {
   "cell_type": "code",
   "execution_count": null,
   "metadata": {},
   "outputs": [],
   "source": [
    "from selenium import webdriver\n",
    "from selenium.webdriver.common.by import By\n",
    "from selenium.webdriver.support.ui import WebDriverWait\n",
    "from selenium.webdriver.support import expected_conditions as EC\n",
    "from bs4 import BeautifulSoup\n",
    "from webdriver_manager.chrome import ChromeDriverManager\n",
    "import re\n",
    "import time\n",
    "import pandas as pd\n",
    "import numpy as np"
   ]
  },
  {
   "cell_type": "code",
   "execution_count": null,
   "metadata": {},
   "outputs": [],
   "source": [
    "driver = webdriver.Chrome(ChromeDriverManager().install())"
   ]
  },
  {
   "cell_type": "code",
   "execution_count": null,
   "metadata": {
    "tags": []
   },
   "outputs": [],
   "source": [
    "def get_items(driver):\n",
    "\n",
    "    #driver.get('https://www.amazon.com')\n",
    "\n",
    "    #driver.find_element_by_css_selector('a[aria-label=\"Amazon Top Sellers - Shop now\"]').click()\n",
    "    #driver.implicitly_wait(5)\n",
    "\n",
    "    #driver.find_element_by_xpath(\"//span[text()='See all results']\").click()\n",
    "    #driver.implicitly_wait(3)\n",
    "\n",
    "    items_list = []\n",
    "\n",
    "\n",
    "    for i in range(2, 10):\n",
    "        link = f'https://www.amazon.com/s?i=specialty-aps&rh=n%3A17938598011&fs=true&page={str(i)}&qid=1619749581&ref=sr_pg_{str(i)}'\n",
    "        driver.get(link)\n",
    "        items = driver.find_elements_by_css_selector('span.a-size-medium.a-color-base.a-text-normal')\n",
    "\n",
    "\n",
    "        for current_item in range(len(items)):\n",
    "            driver.find_elements_by_css_selector('span.a-size-medium.a-color-base.a-text-normal')[current_item].click()\n",
    "            driver.implicitly_wait(7)\n",
    "\n",
    "            items_list.append(driver.current_url)\n",
    "            driver.implicitly_wait(2)\n",
    "\n",
    "            driver.get(link)\n",
    "            driver.implicitly_wait(7)\n",
    "\n",
    "    return items_list\n",
    "\n",
    "items = list(set(get_items(driver)))\n",
    "print(items)"
   ]
  },
  {
   "cell_type": "code",
   "execution_count": null,
   "metadata": {},
   "outputs": [],
   "source": [
    "np.save('links', np.array(items))"
   ]
  },
  {
   "cell_type": "code",
   "execution_count": null,
   "metadata": {},
   "outputs": [],
   "source": [
    "#items = np.load('links.npy')"
   ]
  },
  {
   "cell_type": "code",
   "execution_count": null,
   "metadata": {},
   "outputs": [],
   "source": [
    "items.shape"
   ]
  },
  {
   "cell_type": "code",
   "execution_count": null,
   "metadata": {},
   "outputs": [],
   "source": [
    "def get_reviews(driver, items_list, reviews_per_item=500, arr=None):\n",
    "\n",
    "    # CSS selectors\n",
    "    all_reviews_selector = \"//a[text()='See all reviews']\"\n",
    "    next_page_selector = \"//a[text()='Next page']\"\n",
    "    review_body_selector = 'span[data-hook=\"review-body\"]>span'\n",
    "    review_rating_selector = 'i[data-hook*=\"review-star-rating\"]'\n",
    "\n",
    "    if arr is not None:\n",
    "        completed_items = int(arr.shape[0]/reviews_per_item)\n",
    "        completed_reviews = int(arr.shape[0] - completed_items * reviews_per_item)\n",
    "    else:\n",
    "        completed_items = 0\n",
    "        completed_reviews = 0\n",
    "\n",
    "    for item in range(95, len(items_list)):\n",
    "        rating_text = []\n",
    "\n",
    "        driver.get(items_list[item])\n",
    "        time.sleep(3)\n",
    "\n",
    "        driver.find_element_by_xpath(all_reviews_selector).click()\n",
    "        time.sleep(3)\n",
    "\n",
    "        # click next page\n",
    "        driver.find_element_by_xpath(next_page_selector).click()\n",
    "        time.sleep(3)\n",
    "\n",
    "        if item == completed_items and completed_reviews != 0:\n",
    "            print(f'Skipped {completed_items} items')\n",
    "            print(f'Skipped {completed_reviews} reviews')\n",
    "            \n",
    "            # click next page\n",
    "            driver.find_element_by_xpath(next_page_selector).click()\n",
    "            time.sleep(3)\n",
    "\n",
    "            # change page number\n",
    "            driver.get(re.sub('pageNumber=2', f'pageNumber={int(completed_reviews/10)+1}', driver.current_url))\n",
    "            time.sleep(3)\n",
    "\n",
    "        for page in range(int(completed_reviews/10), int(reviews_per_item/10)):\n",
    "            soup = BeautifulSoup(driver.page_source)\n",
    "            all_reviews = soup.select('[id^=customer_review]')\n",
    "\n",
    "            for i in range(len(all_reviews)):\n",
    "                try:\n",
    "                    text = all_reviews[i].select_one(review_body_selector).getText()\n",
    "                    star = \" \".join(all_reviews[i].select_one(review_rating_selector)['class'])\n",
    "                except:\n",
    "                    print('Text')\n",
    "                    print(all_reviews[i].select_one(review_body_selector).getText())\n",
    "                    print('Stars')\n",
    "                    print(all_reviews[i].select_one(review_rating_selector))\n",
    "                    raise Error(\"Stop! Error selecting review's text or rating\")\n",
    "\n",
    "                rating = int(star[re.search(r'a-star-*', star).end()])\n",
    "                rating_text.append((rating, text))\n",
    "\n",
    "            if page == 0:\n",
    "                driver.find_element_by_xpath(next_page_selector).click()\n",
    "            else:\n",
    "                driver.get(re.sub(f'pageNumber={page+1}', f'pageNumber={page+2}', driver.current_url))\n",
    "            time.sleep(2)\n",
    "\n",
    "            if (page+1) % 10 == 0:\n",
    "                #print(f'Item {item+1}/{len(items_list)}: page {page+1}/{int(reviews_per_item/10)}')\n",
    "                pass\n",
    "            \n",
    "            \n",
    "        if completed_reviews != 0:\n",
    "            completed_reviews = 0\n",
    "        pd.DataFrame(rating_text, columns=['rating', 'text']).to_csv(f'./item_reviews/item_{item}.csv', index=False)\n",
    "\n",
    "    return True\n",
    "    "
   ]
  },
  {
   "cell_type": "code",
   "execution_count": null,
   "metadata": {},
   "outputs": [],
   "source": [
    "get_reviews(driver, items, 500, None)"
   ]
  },
  {
   "cell_type": "code",
   "execution_count": null,
   "metadata": {},
   "outputs": [],
   "source": [
    "items_arr = []\n",
    "rows = 0\n",
    "for i in range(66, 102):\n",
    "    a = pd.read_csv(f'item_{i}.csv')\n",
    "    items_arr.append(a)\n",
    "    rows += a.shape[0]\n"
   ]
  },
  {
   "cell_type": "code",
   "execution_count": null,
   "metadata": {},
   "outputs": [],
   "source": [
    "#pd.concat(items_arr, axis=0).to_csv('items_66_101.csv', index=False)"
   ]
  },
  {
   "cell_type": "code",
   "execution_count": null,
   "metadata": {},
   "outputs": [],
   "source": []
  }
 ]
}